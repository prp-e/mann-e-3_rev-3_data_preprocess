{
 "cells": [
  {
   "cell_type": "markdown",
   "id": "339b94ae",
   "metadata": {},
   "source": [
    "# Data preprocess for Mann-E"
   ]
  },
  {
   "cell_type": "markdown",
   "id": "63e5161d",
   "metadata": {},
   "source": [
    "## Importing necessary libraries"
   ]
  },
  {
   "cell_type": "code",
   "execution_count": 2,
   "id": "5641a45d",
   "metadata": {},
   "outputs": [],
   "source": [
    "import pandas as pd\n",
    "import numpy as np\n",
    "import matplotlib.pyplot as plt\n",
    "import requests\n",
    "from PIL import Image"
   ]
  },
  {
   "cell_type": "markdown",
   "id": "17f2527f",
   "metadata": {},
   "source": [
    "## Importing the dataset to the notebook"
   ]
  },
  {
   "cell_type": "code",
   "execution_count": 3,
   "id": "b1dfe834",
   "metadata": {},
   "outputs": [],
   "source": [
    "df = pd.read_csv('mj250k.csv')"
   ]
  },
  {
   "cell_type": "code",
   "execution_count": 4,
   "id": "63c4ebde",
   "metadata": {},
   "outputs": [
    {
     "data": {
      "text/html": [
       "<div>\n",
       "<style scoped>\n",
       "    .dataframe tbody tr th:only-of-type {\n",
       "        vertical-align: middle;\n",
       "    }\n",
       "\n",
       "    .dataframe tbody tr th {\n",
       "        vertical-align: top;\n",
       "    }\n",
       "\n",
       "    .dataframe thead th {\n",
       "        text-align: right;\n",
       "    }\n",
       "</style>\n",
       "<table border=\"1\" class=\"dataframe\">\n",
       "  <thead>\n",
       "    <tr style=\"text-align: right;\">\n",
       "      <th></th>\n",
       "      <th>Unnamed: 0</th>\n",
       "      <th>timestamp</th>\n",
       "      <th>_message</th>\n",
       "      <th>_thumb_url</th>\n",
       "      <th>img_url</th>\n",
       "    </tr>\n",
       "  </thead>\n",
       "  <tbody>\n",
       "    <tr>\n",
       "      <th>0</th>\n",
       "      <td>0</td>\n",
       "      <td>2022-06-20T23:53:53.545000+00:00</td>\n",
       "      <td>**Bill Sienkiewicz technology | Jack Kirby mac...</td>\n",
       "      <td>https://cdn.discordapp.com/attachments/9880286...</td>\n",
       "      <td>https://media.discordapp.net/attachments/98802...</td>\n",
       "    </tr>\n",
       "    <tr>\n",
       "      <th>1</th>\n",
       "      <td>1</td>\n",
       "      <td>2022-06-20T23:52:58.907000+00:00</td>\n",
       "      <td>**&lt;https://s.mj.run/vN6ggUx7POc&gt; --ar 9:16** -...</td>\n",
       "      <td>https://cdn.discordapp.com/attachments/9862635...</td>\n",
       "      <td>https://media.discordapp.net/attachments/98626...</td>\n",
       "    </tr>\n",
       "    <tr>\n",
       "      <th>2</th>\n",
       "      <td>2</td>\n",
       "      <td>2022-06-20T23:52:33.916000+00:00</td>\n",
       "      <td>**Bill Sienkiewicz technology | Jack Kirby mac...</td>\n",
       "      <td>https://cdn.discordapp.com/attachments/9880286...</td>\n",
       "      <td>https://media.discordapp.net/attachments/98802...</td>\n",
       "    </tr>\n",
       "    <tr>\n",
       "      <th>3</th>\n",
       "      <td>3</td>\n",
       "      <td>2022-06-20T23:52:31.313000+00:00</td>\n",
       "      <td>**Bill Sienkiewicz technology | Jack Kirby mac...</td>\n",
       "      <td>https://cdn.discordapp.com/attachments/9880286...</td>\n",
       "      <td>https://media.discordapp.net/attachments/98802...</td>\n",
       "    </tr>\n",
       "    <tr>\n",
       "      <th>4</th>\n",
       "      <td>4</td>\n",
       "      <td>2022-06-20T23:52:19.600000+00:00</td>\n",
       "      <td>**&lt;https://s.mj.run/QIgF9-KsZaU&gt; cats with man...</td>\n",
       "      <td>https://cdn.discordapp.com/attachments/9829902...</td>\n",
       "      <td>https://media.discordapp.net/attachments/98299...</td>\n",
       "    </tr>\n",
       "    <tr>\n",
       "      <th>5</th>\n",
       "      <td>5</td>\n",
       "      <td>2022-06-20T23:52:05.430000+00:00</td>\n",
       "      <td>**bent twisted impossible shape mysterious for...</td>\n",
       "      <td>https://cdn.discordapp.com/attachments/9880286...</td>\n",
       "      <td>https://media.discordapp.net/attachments/98802...</td>\n",
       "    </tr>\n",
       "    <tr>\n",
       "      <th>6</th>\n",
       "      <td>6</td>\n",
       "      <td>2022-06-20T23:51:54.179000+00:00</td>\n",
       "      <td>**&lt;https://s.mj.run/QIgF9-KsZaU&gt; cats with man...</td>\n",
       "      <td>https://cdn.discordapp.com/attachments/9829902...</td>\n",
       "      <td>https://media.discordapp.net/attachments/98299...</td>\n",
       "    </tr>\n",
       "    <tr>\n",
       "      <th>7</th>\n",
       "      <td>7</td>\n",
       "      <td>2022-06-20T23:51:44.679000+00:00</td>\n",
       "      <td>**&lt;https://s.mj.run/eejPAL0v0Lc&gt; --ar 9:16** -...</td>\n",
       "      <td>https://cdn.discordapp.com/attachments/9862635...</td>\n",
       "      <td>https://media.discordapp.net/attachments/98626...</td>\n",
       "    </tr>\n",
       "    <tr>\n",
       "      <th>8</th>\n",
       "      <td>8</td>\n",
       "      <td>2022-06-20T23:51:18.211000+00:00</td>\n",
       "      <td>**&lt;https://s.mj.run/eejPAL0v0Lc&gt; --ar 9:16** -...</td>\n",
       "      <td>https://cdn.discordapp.com/attachments/9862635...</td>\n",
       "      <td>https://media.discordapp.net/attachments/98626...</td>\n",
       "    </tr>\n",
       "    <tr>\n",
       "      <th>9</th>\n",
       "      <td>9</td>\n",
       "      <td>2022-06-20T23:49:35.971000+00:00</td>\n",
       "      <td>**&lt;https://s.mj.run/eejPAL0v0Lc&gt; --ar 9:16** -...</td>\n",
       "      <td>https://cdn.discordapp.com/attachments/9862635...</td>\n",
       "      <td>https://media.discordapp.net/attachments/98626...</td>\n",
       "    </tr>\n",
       "  </tbody>\n",
       "</table>\n",
       "</div>"
      ],
      "text/plain": [
       "   Unnamed: 0                         timestamp  \\\n",
       "0           0  2022-06-20T23:53:53.545000+00:00   \n",
       "1           1  2022-06-20T23:52:58.907000+00:00   \n",
       "2           2  2022-06-20T23:52:33.916000+00:00   \n",
       "3           3  2022-06-20T23:52:31.313000+00:00   \n",
       "4           4  2022-06-20T23:52:19.600000+00:00   \n",
       "5           5  2022-06-20T23:52:05.430000+00:00   \n",
       "6           6  2022-06-20T23:51:54.179000+00:00   \n",
       "7           7  2022-06-20T23:51:44.679000+00:00   \n",
       "8           8  2022-06-20T23:51:18.211000+00:00   \n",
       "9           9  2022-06-20T23:49:35.971000+00:00   \n",
       "\n",
       "                                            _message  \\\n",
       "0  **Bill Sienkiewicz technology | Jack Kirby mac...   \n",
       "1  **<https://s.mj.run/vN6ggUx7POc> --ar 9:16** -...   \n",
       "2  **Bill Sienkiewicz technology | Jack Kirby mac...   \n",
       "3  **Bill Sienkiewicz technology | Jack Kirby mac...   \n",
       "4  **<https://s.mj.run/QIgF9-KsZaU> cats with man...   \n",
       "5  **bent twisted impossible shape mysterious for...   \n",
       "6  **<https://s.mj.run/QIgF9-KsZaU> cats with man...   \n",
       "7  **<https://s.mj.run/eejPAL0v0Lc> --ar 9:16** -...   \n",
       "8  **<https://s.mj.run/eejPAL0v0Lc> --ar 9:16** -...   \n",
       "9  **<https://s.mj.run/eejPAL0v0Lc> --ar 9:16** -...   \n",
       "\n",
       "                                          _thumb_url  \\\n",
       "0  https://cdn.discordapp.com/attachments/9880286...   \n",
       "1  https://cdn.discordapp.com/attachments/9862635...   \n",
       "2  https://cdn.discordapp.com/attachments/9880286...   \n",
       "3  https://cdn.discordapp.com/attachments/9880286...   \n",
       "4  https://cdn.discordapp.com/attachments/9829902...   \n",
       "5  https://cdn.discordapp.com/attachments/9880286...   \n",
       "6  https://cdn.discordapp.com/attachments/9829902...   \n",
       "7  https://cdn.discordapp.com/attachments/9862635...   \n",
       "8  https://cdn.discordapp.com/attachments/9862635...   \n",
       "9  https://cdn.discordapp.com/attachments/9862635...   \n",
       "\n",
       "                                             img_url  \n",
       "0  https://media.discordapp.net/attachments/98802...  \n",
       "1  https://media.discordapp.net/attachments/98626...  \n",
       "2  https://media.discordapp.net/attachments/98802...  \n",
       "3  https://media.discordapp.net/attachments/98802...  \n",
       "4  https://media.discordapp.net/attachments/98299...  \n",
       "5  https://media.discordapp.net/attachments/98802...  \n",
       "6  https://media.discordapp.net/attachments/98299...  \n",
       "7  https://media.discordapp.net/attachments/98626...  \n",
       "8  https://media.discordapp.net/attachments/98626...  \n",
       "9  https://media.discordapp.net/attachments/98626...  "
      ]
     },
     "execution_count": 4,
     "metadata": {},
     "output_type": "execute_result"
    }
   ],
   "source": [
    "df.head(10)"
   ]
  },
  {
   "cell_type": "markdown",
   "id": "b3c7bcec",
   "metadata": {},
   "source": [
    "### Dropping the \"Unnamed\""
   ]
  },
  {
   "cell_type": "code",
   "execution_count": 5,
   "id": "76a0b2d7",
   "metadata": {},
   "outputs": [],
   "source": [
    "df = df.loc[:, ~df.columns.str.contains('^Unnamed')]"
   ]
  },
  {
   "cell_type": "code",
   "execution_count": 6,
   "id": "db095dbe",
   "metadata": {},
   "outputs": [
    {
     "data": {
      "text/html": [
       "<div>\n",
       "<style scoped>\n",
       "    .dataframe tbody tr th:only-of-type {\n",
       "        vertical-align: middle;\n",
       "    }\n",
       "\n",
       "    .dataframe tbody tr th {\n",
       "        vertical-align: top;\n",
       "    }\n",
       "\n",
       "    .dataframe thead th {\n",
       "        text-align: right;\n",
       "    }\n",
       "</style>\n",
       "<table border=\"1\" class=\"dataframe\">\n",
       "  <thead>\n",
       "    <tr style=\"text-align: right;\">\n",
       "      <th></th>\n",
       "      <th>timestamp</th>\n",
       "      <th>_message</th>\n",
       "      <th>_thumb_url</th>\n",
       "      <th>img_url</th>\n",
       "    </tr>\n",
       "  </thead>\n",
       "  <tbody>\n",
       "    <tr>\n",
       "      <th>0</th>\n",
       "      <td>2022-06-20T23:53:53.545000+00:00</td>\n",
       "      <td>**Bill Sienkiewicz technology | Jack Kirby mac...</td>\n",
       "      <td>https://cdn.discordapp.com/attachments/9880286...</td>\n",
       "      <td>https://media.discordapp.net/attachments/98802...</td>\n",
       "    </tr>\n",
       "    <tr>\n",
       "      <th>1</th>\n",
       "      <td>2022-06-20T23:52:58.907000+00:00</td>\n",
       "      <td>**&lt;https://s.mj.run/vN6ggUx7POc&gt; --ar 9:16** -...</td>\n",
       "      <td>https://cdn.discordapp.com/attachments/9862635...</td>\n",
       "      <td>https://media.discordapp.net/attachments/98626...</td>\n",
       "    </tr>\n",
       "    <tr>\n",
       "      <th>2</th>\n",
       "      <td>2022-06-20T23:52:33.916000+00:00</td>\n",
       "      <td>**Bill Sienkiewicz technology | Jack Kirby mac...</td>\n",
       "      <td>https://cdn.discordapp.com/attachments/9880286...</td>\n",
       "      <td>https://media.discordapp.net/attachments/98802...</td>\n",
       "    </tr>\n",
       "    <tr>\n",
       "      <th>3</th>\n",
       "      <td>2022-06-20T23:52:31.313000+00:00</td>\n",
       "      <td>**Bill Sienkiewicz technology | Jack Kirby mac...</td>\n",
       "      <td>https://cdn.discordapp.com/attachments/9880286...</td>\n",
       "      <td>https://media.discordapp.net/attachments/98802...</td>\n",
       "    </tr>\n",
       "    <tr>\n",
       "      <th>4</th>\n",
       "      <td>2022-06-20T23:52:19.600000+00:00</td>\n",
       "      <td>**&lt;https://s.mj.run/QIgF9-KsZaU&gt; cats with man...</td>\n",
       "      <td>https://cdn.discordapp.com/attachments/9829902...</td>\n",
       "      <td>https://media.discordapp.net/attachments/98299...</td>\n",
       "    </tr>\n",
       "  </tbody>\n",
       "</table>\n",
       "</div>"
      ],
      "text/plain": [
       "                          timestamp  \\\n",
       "0  2022-06-20T23:53:53.545000+00:00   \n",
       "1  2022-06-20T23:52:58.907000+00:00   \n",
       "2  2022-06-20T23:52:33.916000+00:00   \n",
       "3  2022-06-20T23:52:31.313000+00:00   \n",
       "4  2022-06-20T23:52:19.600000+00:00   \n",
       "\n",
       "                                            _message  \\\n",
       "0  **Bill Sienkiewicz technology | Jack Kirby mac...   \n",
       "1  **<https://s.mj.run/vN6ggUx7POc> --ar 9:16** -...   \n",
       "2  **Bill Sienkiewicz technology | Jack Kirby mac...   \n",
       "3  **Bill Sienkiewicz technology | Jack Kirby mac...   \n",
       "4  **<https://s.mj.run/QIgF9-KsZaU> cats with man...   \n",
       "\n",
       "                                          _thumb_url  \\\n",
       "0  https://cdn.discordapp.com/attachments/9880286...   \n",
       "1  https://cdn.discordapp.com/attachments/9862635...   \n",
       "2  https://cdn.discordapp.com/attachments/9880286...   \n",
       "3  https://cdn.discordapp.com/attachments/9880286...   \n",
       "4  https://cdn.discordapp.com/attachments/9829902...   \n",
       "\n",
       "                                             img_url  \n",
       "0  https://media.discordapp.net/attachments/98802...  \n",
       "1  https://media.discordapp.net/attachments/98626...  \n",
       "2  https://media.discordapp.net/attachments/98802...  \n",
       "3  https://media.discordapp.net/attachments/98802...  \n",
       "4  https://media.discordapp.net/attachments/98299...  "
      ]
     },
     "execution_count": 6,
     "metadata": {},
     "output_type": "execute_result"
    }
   ],
   "source": [
    "df.head()"
   ]
  },
  {
   "cell_type": "markdown",
   "id": "c3c0d09e",
   "metadata": {},
   "source": [
    "## Reviewing data of a row"
   ]
  },
  {
   "cell_type": "code",
   "execution_count": 18,
   "id": "8369f36c",
   "metadata": {},
   "outputs": [],
   "source": [
    "row = df.iloc[2500]"
   ]
  },
  {
   "cell_type": "code",
   "execution_count": 19,
   "id": "0d759ec2",
   "metadata": {},
   "outputs": [
    {
     "data": {
      "text/plain": [
       "'**/imagine oil painting of a cyberpunk city, by karl friedrich schinkel::10, bustling, crowded, shanty, tunnels, cyberpunk::2, futuristic:5, grunge::1.5, detailed:2, desaturated, gray, cloud shadows, daytime::2, soft lighting, low contrast, --no church::3 --no neon::3 --ar 16:9** - <@226282573326843904>'"
      ]
     },
     "execution_count": 19,
     "metadata": {},
     "output_type": "execute_result"
    }
   ],
   "source": [
    "row['_message']"
   ]
  },
  {
   "cell_type": "code",
   "execution_count": 20,
   "id": "333d56ba",
   "metadata": {},
   "outputs": [
    {
     "data": {
      "text/plain": [
       "'https://media.discordapp.net/attachments/988356821842534460/988368125139505152/f318a246-e950-4bc4-8194-53106988fdf8_Stijn_imagine_oil_painting_of_a_cyberpunk_city_by_karl_friedrich_schinkel.png'"
      ]
     },
     "execution_count": 20,
     "metadata": {},
     "output_type": "execute_result"
    }
   ],
   "source": [
    "row['img_url']"
   ]
  },
  {
   "cell_type": "markdown",
   "id": "dda84cb2",
   "metadata": {},
   "source": [
    "## Downloading and Showing a single image from a row"
   ]
  },
  {
   "cell_type": "code",
   "execution_count": null,
   "id": "2077c4a7",
   "metadata": {},
   "outputs": [],
   "source": []
  }
 ],
 "metadata": {
  "kernelspec": {
   "display_name": "Python 3 (ipykernel)",
   "language": "python",
   "name": "python3"
  },
  "language_info": {
   "codemirror_mode": {
    "name": "ipython",
    "version": 3
   },
   "file_extension": ".py",
   "mimetype": "text/x-python",
   "name": "python",
   "nbconvert_exporter": "python",
   "pygments_lexer": "ipython3",
   "version": "3.11.1"
  }
 },
 "nbformat": 4,
 "nbformat_minor": 5
}
