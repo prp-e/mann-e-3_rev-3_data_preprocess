{
 "cells": [
  {
   "cell_type": "markdown",
   "id": "339b94ae",
   "metadata": {},
   "source": [
    "# Data preprocess for Mann-E"
   ]
  },
  {
   "cell_type": "markdown",
   "id": "63e5161d",
   "metadata": {},
   "source": [
    "## Importing necessary libraries"
   ]
  },
  {
   "cell_type": "code",
   "execution_count": 2,
   "id": "5641a45d",
   "metadata": {},
   "outputs": [],
   "source": [
    "import pandas as pd\n",
    "import numpy as np\n",
    "import matplotlib.pyplot as plt\n",
    "import requests\n",
    "from PIL import Image"
   ]
  },
  {
   "cell_type": "markdown",
   "id": "b8142e88",
   "metadata": {},
   "source": [
    "## Importing the dataset to the notebook"
   ]
  },
  {
   "cell_type": "code",
   "execution_count": null,
   "id": "12024630",
   "metadata": {},
   "outputs": [],
   "source": []
  }
 ],
 "metadata": {
  "kernelspec": {
   "display_name": "Python 3 (ipykernel)",
   "language": "python",
   "name": "python3"
  },
  "language_info": {
   "codemirror_mode": {
    "name": "ipython",
    "version": 3
   },
   "file_extension": ".py",
   "mimetype": "text/x-python",
   "name": "python",
   "nbconvert_exporter": "python",
   "pygments_lexer": "ipython3",
   "version": "3.11.1"
  }
 },
 "nbformat": 4,
 "nbformat_minor": 5
}
